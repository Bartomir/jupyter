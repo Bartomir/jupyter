{
 "cells": [
  {
   "cell_type": "code",
   "execution_count": 1,
   "metadata": {},
   "outputs": [],
   "source": [
    "from __future__ import print_function\n",
    "\n",
    "def drawboard(board):\n",
    "#     for row in board:\n",
    "#         print(\"|\".join(row))\n",
    "    for x in range(len(board)):\n",
    "        for y in range(len(board[x])):\n",
    "            print(\"|{}|\".format(board[x][y]), end=\"\")\n",
    "        print(\"\\n\")"
   ]
  },
  {
   "cell_type": "code",
   "execution_count": 2,
   "metadata": {},
   "outputs": [],
   "source": [
    "def winconditions(board, row, column):\n",
    "    #if won by row\n",
    "    if board[row][0] == ('X') and board[row][1] == ('X') and board [row][2] == ('X'):\n",
    "        return True\n",
    "    elif board[row][0] == ('O') and board[row][1] == ('O') and board [row][2] == ('O'):\n",
    "        return True\n",
    "    #if won by column\n",
    "    elif board[0][column] == ('X') and board[1][column] == ('X') and board [2][column] == ('X'):\n",
    "        return True\n",
    "    elif board[0][column] == ('O') and board[1][column] == ('O') and board [2][column] == ('O'):\n",
    "        return True\n",
    "    #skosy\n",
    "    elif board[0][0] == board[1][1] == board[2][2] == ('X') or board[2][0] == board[1][1] == board[0][2] == ('X'):\n",
    "        return True\n",
    "    elif board[0][0] == board[1][1] == board[2][2] == ('O') or board[2][0] == board[1][1] == board[0][2] == ('O'):\n",
    "        return True\n",
    "    else: \n",
    "        return False"
   ]
  },
  {
   "cell_type": "code",
   "execution_count": 3,
   "metadata": {},
   "outputs": [],
   "source": [
    "def drawcheck(board):\n",
    "    for row in board:\n",
    "        if ' ' in row:\n",
    "            return False\n",
    "    return True"
   ]
  },
  {
   "cell_type": "code",
   "execution_count": 4,
   "metadata": {},
   "outputs": [],
   "source": [
    "playingboard = [[' ', ' ', ' '], [' ',' ',' '], [' ', ' ', ' ']]\n",
    "movingplayer = 1\n",
    "markedrow = 1\n",
    "markedcolumn = 1"
   ]
  },
  {
   "cell_type": "code",
   "execution_count": null,
   "metadata": {},
   "outputs": [
    {
     "name": "stdout",
     "output_type": "stream",
     "text": [
      "| || || |\n",
      "\n",
      "| || || |\n",
      "\n",
      "| || || |\n",
      "\n",
      "This is player 1 turn. Please choose where you want to put your mark. Provide row number...\n"
     ]
    }
   ],
   "source": [
    "acceptable_answers = range(1, 4)\n",
    "while winconditions(playingboard, markedrow-1, markedcolumn-1) == False:\n",
    "    if drawcheck(playingboard):\n",
    "        break\n",
    "    drawboard(playingboard)\n",
    "    print(\"This is player {} turn. Please choose where you want to put your mark. Provide row number...\".format(movingplayer))\n",
    "    markedrow = raw_input()\n",
    "    print(\"...and column number.\")\n",
    "    markedcolumn = raw_input()\n",
    "    if int(markedrow) not in acceptable_answers or int(markedcolumn) not in acceptable_answers:\n",
    "        print(\"Jesteś głupi\")\n",
    "        continue\n",
    "    markedrow = int(markedrow)\n",
    "    markedcolumn = int(markedcolumn)\n",
    "    if playingboard[markedrow-1][markedcolumn-1] != ' ':\n",
    "        print(\"This spot is taken, loser! Try again\")\n",
    "        continue\n",
    "    elif movingplayer == 1:\n",
    "        playingboard[markedrow-1][markedcolumn-1] = 'X'\n",
    "        movingplayer = 2\n",
    "    else: \n",
    "        playingboard[markedrow-1][markedcolumn-1] = 'O'\n",
    "        movingplayer = 1\n",
    "\n",
    "if not drawcheck(playingboard):\n",
    "    print(\"You've lost, player {}!\".format(movingplayer))"
   ]
  },
  {
   "cell_type": "markdown",
   "metadata": {},
   "source": []
  }
 ],
 "metadata": {
  "kernelspec": {
   "display_name": "Python 2",
   "language": "python",
   "name": "python2"
  },
  "language_info": {
   "codemirror_mode": {
    "name": "ipython",
    "version": 2
   },
   "file_extension": ".py",
   "mimetype": "text/x-python",
   "name": "python",
   "nbconvert_exporter": "python",
   "pygments_lexer": "ipython2",
   "version": "2.7.12"
  }
 },
 "nbformat": 4,
 "nbformat_minor": 2
}
