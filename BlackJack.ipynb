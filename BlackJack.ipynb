{
 "cells": [
  {
   "cell_type": "code",
   "execution_count": 127,
   "metadata": {},
   "outputs": [],
   "source": [
    "from random import shuffle\n",
    "import decimal \n",
    "\n",
    "class Card():\n",
    "    def __init__(self, value, suit, pip):\n",
    "        self.value = value\n",
    "        self.suit = suit\n",
    "        self.pip = pip\n",
    "        \n",
    "    def __repr__(self):\n",
    "        return f' {self.pip}{self.suit}'\n",
    "    \n",
    "    def show(self):\n",
    "        if self.pip == \"10\":\n",
    "            print(\" ___________\")\n",
    "            print(\"|{}{}        |\".format(self.pip, self.suit))\n",
    "        else:\n",
    "            print(\" ___________\")\n",
    "            print(\"|{}{}         |\".format(self.pip, self.suit))\n",
    "        \n",
    "    \n",
    "class Deck():  \n",
    "    pips = [(\"A\", 11), (\"2\", 2), (\"3\", 3), (\"4\", 4), (\"5\", 5), (\"6\", 6), (\"7\", 7), \n",
    "            (\"8\", 8), (\"9\", 9), (\"10\", 10), (\"J\", 10), (\"Q\", 10), (\"K\", 10)]\n",
    "    suits = [\"\\u2663\", \"\\u2665\", \"\\u2666\", \"\\u2660\"]\n",
    "    \n",
    "    def __init__(self):\n",
    "        self.deck = []   \n",
    "        for suit in self.suits:\n",
    "            for pip, value in self.pips:\n",
    "                new_card = Card(value=value, suit=suit, pip=pip)\n",
    "                self.deck.append(new_card)\n",
    "\n",
    "    def __str__(self):\n",
    "        return self.deck\n",
    "        \n",
    "    def shuffle(self):\n",
    "        shuffle(self.deck)\n",
    "        \n",
    "    def draw_card(self): \n",
    "        return self.deck.pop()\n",
    "    \n",
    "    def show(self):\n",
    "        for card in self.deck:\n",
    "            card.show()\n",
    "\n",
    "class Hand():  \n",
    "    def __init__(self):\n",
    "        self.cards = []\n",
    "        \n",
    "    def hit(self, deck):\n",
    "        self.cards.append(deck.draw_card())\n",
    "                \n",
    "    def show(self):\n",
    "        print(\"Your hand: \")\n",
    "        for card in self.cards:\n",
    "            card.show()\n",
    "        print(\"Your hand value: {}\".format(player.get_value()))\n",
    "             \n",
    "    def get_value(self):\n",
    "        return validate(sum([card.value for card in self.cards]))\n",
    "\n",
    "class Player(Hand):\n",
    "    def __init__(self, name, money):\n",
    "        super().__init__()\n",
    "        self.name = name\n",
    "        self.money = money\n",
    "            \n",
    "    def __str__(self):\n",
    "        return f'{self.name}, {self.money}'\n",
    "        \n",
    "    def bet(self):\n",
    "        self.bet = validate(input(\"How much you want to lose?: \"))\n",
    "        if validate(self.bet) <= self.money and validate(self.bet) != 0:\n",
    "            self.money -= validate(self.bet)\n",
    "        else:\n",
    "            print(\"You can't do that!\")  \n",
    "               \n",
    "class DealerHand(Hand):\n",
    "    def __init__(self):\n",
    "        super().__init__()\n",
    "        \n",
    "    def show(self):\n",
    "        print(\"Dealer's hand: \")\n",
    "        for card in self.cards:\n",
    "            card.show()\n",
    "        print(\"Dealer's hand value: {}\".format(dealer.get_value()))\n",
    "             \n",
    "    def show_hidden(self):\n",
    "        print(\"Dealer's hand: \")\n",
    "        for card in self.cards[:-1]:\n",
    "            card.show()\n",
    "        print(\" ___________\")\n",
    "        print(\"|??         |\")\n",
    "\n"
   ]
  },
  {
   "cell_type": "code",
   "execution_count": 143,
   "metadata": {},
   "outputs": [],
   "source": [
    "def validate(amount):\n",
    "    try:\n",
    "        return (decimal.Decimal(amount))\n",
    "    except decimal.InvalidOperation:\n",
    "        pass\n",
    "\n",
    "def show_table():\n",
    "    player.show()\n",
    "    print(\"Your hand value: {}\".format(player.get_value()))\n",
    "    dealer.show_hidden()\n",
    "    \n",
    "def first_draw():\n",
    "    player.hit(deck)\n",
    "    player.hit(deck)\n",
    "    dealer.hit(deck)\n",
    "    dealer.hit(deck)\n",
    "    \n",
    "def game_ongoing():\n",
    "    if player.get_value() <= dealer.get_value() and dealer.get_value() <= 21:\n",
    "        dealer.show()\n",
    "        print(\"You've lost!!!\")    \n",
    "    else:\n",
    "        player.money += player.bet*2\n",
    "        dealer.show()\n",
    "        print(\"You lucky bastard!!!\")\n",
    "        print(player)\n",
    "        \n",
    "def game_end():\n",
    "    if player.get_value() > 21:\n",
    "        dealer.show()\n",
    "        print(\"You've lost!!!\")"
   ]
  },
  {
   "cell_type": "code",
   "execution_count": 144,
   "metadata": {},
   "outputs": [
    {
     "name": "stdout",
     "output_type": "stream",
     "text": [
      "What's your name punk? BArt\n",
      "How much do you have? 300\n"
     ]
    }
   ],
   "source": [
    "name = input(\"What's your name punk? \")\n",
    "while True:\n",
    "    try:\n",
    "        money = validate(input(\"How much do you have? \")) #  ok this is shit, nevermind\n",
    "        if money < 10:\n",
    "            print(\"{}!? That's not enough! Show me real money or get the fuck out! \".format(money))\n",
    "        elif money % 10 != 0:\n",
    "            money = money - (money % 10)\n",
    "            print(\"Spare the change\")\n",
    "            break\n",
    "        else:\n",
    "            break\n",
    "    except TypeError:\n",
    "        print(\"What!? Are U nuts?\")\n",
    "        \n",
    "player = Player(name, money)"
   ]
  },
  {
   "cell_type": "code",
   "execution_count": 145,
   "metadata": {},
   "outputs": [
    {
     "name": "stdout",
     "output_type": "stream",
     "text": [
      "BArt, 300\n"
     ]
    }
   ],
   "source": [
    "print(player)"
   ]
  },
  {
   "cell_type": "code",
   "execution_count": 146,
   "metadata": {},
   "outputs": [],
   "source": [
    "deck = Deck()\n",
    "dealer = DealerHand()\n",
    "deck.shuffle()  "
   ]
  },
  {
   "cell_type": "code",
   "execution_count": 147,
   "metadata": {},
   "outputs": [
    {
     "name": "stdout",
     "output_type": "stream",
     "text": [
      "How much you want to lose?: 50\n",
      "Your hand: \n",
      " ___________\n",
      "|6♦         |\n",
      " ___________\n",
      "|10♣        |\n",
      "Your hand value: 16\n",
      "Your hand value: 16\n",
      "Dealer's hand: \n",
      " ___________\n",
      "|Q♠         |\n",
      " ___________\n",
      "|??         |\n",
      "You hit or stay?: [h/s] s\n",
      "Your hand: \n",
      " ___________\n",
      "|6♦         |\n",
      " ___________\n",
      "|10♣        |\n",
      "Your hand value: 16\n",
      "Dealer's hand: \n",
      " ___________\n",
      "|Q♠         |\n",
      " ___________\n",
      "|A♠         |\n",
      "Dealer's hand value: 21\n",
      "You've lost!!!\n"
     ]
    }
   ],
   "source": [
    "player.bet()\n",
    "first_draw()\n",
    "show_table()\n",
    "\n",
    "while True:\n",
    "    choice = input(\"You hit or stay?: [h/s] \")\n",
    "    if choice == 'h':\n",
    "        player.hit(deck)\n",
    "        player.show()\n",
    "        game_end()\n",
    "    elif choice == 's':\n",
    "        player.show()\n",
    "        break\n",
    "\n",
    "while True:\n",
    "    if player.get_value() > dealer.get_value() and dealer.get_value() <= 21:\n",
    "        dealer.hit(deck)\n",
    "        dealer.show_hidden()\n",
    "    else:\n",
    "        game_ongoing()\n",
    "        break"
   ]
  },
  {
   "cell_type": "code",
   "execution_count": 148,
   "metadata": {},
   "outputs": [
    {
     "name": "stdout",
     "output_type": "stream",
     "text": [
      "BArt, 250\n"
     ]
    }
   ],
   "source": [
    "print(player)"
   ]
  },
  {
   "cell_type": "code",
   "execution_count": null,
   "metadata": {},
   "outputs": [],
   "source": []
  }
 ],
 "metadata": {
  "kernelspec": {
   "display_name": "Python 3",
   "language": "python",
   "name": "python3"
  }
 },
 "nbformat": 4,
 "nbformat_minor": 2
}
