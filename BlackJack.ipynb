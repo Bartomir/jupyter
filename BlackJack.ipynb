{
 "cells": [
  {
   "cell_type": "code",
   "execution_count": 288,
   "metadata": {},
   "outputs": [],
   "source": [
    "from random import shuffle\n",
    "from decimal import Decimal\n",
    "\n",
    "class Deck():\n",
    "    \n",
    "    pips = (\"A\",\"2\",\"3\",\"4\",\"5\",\"6\",\"7\",\"8\",\"9\",\"10\",\"J\",\"Q\",\"K\")\n",
    "    suits = (\"\\u2663\", \"\\u2665\", \"\\u2666\", \"\\u2660\")\n",
    "    \n",
    "    def __init__(self):\n",
    "        self.deck = []   \n",
    "        for self.suit in Deck.suits:\n",
    "            for self.pip in Deck.pips:\n",
    "                card = (self.pip, self.suit)\n",
    "                self.deck.append(card)\n",
    "        print(self.deck)\n",
    "        \n",
    "    def print_deck(self):\n",
    "        print(self.deck)\n",
    "        \n",
    "    def shuffle(self):\n",
    "        shuffle(self.deck)\n",
    "        print(self.deck)\n",
    "        \n",
    "    def draw(self): \n",
    "        return self.deck.pop()\n",
    "        \n",
    "class Hand():\n",
    "    \n",
    "    def __init__(self):\n",
    "        self.cards = []\n",
    "        \n",
    "    def draw(self, deck):\n",
    "        self.cards.append(deck.draw())\n",
    "        print(self.cards)\n",
    "        \n",
    "    def print_hand(self):\n",
    "        for self.card in self.cards:\n",
    "            print(\"{}{}\".format(self.card[0], self.card[1])) \n",
    "        \n",
    "    def hand_value(self):\n",
    "        self.value = []\n",
    "        for self.card in self.cards:\n",
    "            print(self.card[0])\n",
    "            if self.card[0] in [\"J\", \"Q\", \"K\"]:  # this will need to be refined \n",
    "                self.value.append(10)\n",
    "            elif self.card[0] == \"A\":\n",
    "                self.value.append(11)\n",
    "            else:\n",
    "                self.value.append(int(self.card[0]))\n",
    "        print(self.value)\n",
    "        hand_value = sum(self.value)\n",
    "        print(hand_value)\n",
    "   \n",
    "    "
   ]
  },
  {
   "cell_type": "code",
   "execution_count": 289,
   "metadata": {},
   "outputs": [
    {
     "name": "stdout",
     "output_type": "stream",
     "text": [
      "[('A', '♣'), ('2', '♣'), ('3', '♣'), ('4', '♣'), ('5', '♣'), ('6', '♣'), ('7', '♣'), ('8', '♣'), ('9', '♣'), ('10', '♣'), ('J', '♣'), ('Q', '♣'), ('K', '♣'), ('A', '♥'), ('2', '♥'), ('3', '♥'), ('4', '♥'), ('5', '♥'), ('6', '♥'), ('7', '♥'), ('8', '♥'), ('9', '♥'), ('10', '♥'), ('J', '♥'), ('Q', '♥'), ('K', '♥'), ('A', '♦'), ('2', '♦'), ('3', '♦'), ('4', '♦'), ('5', '♦'), ('6', '♦'), ('7', '♦'), ('8', '♦'), ('9', '♦'), ('10', '♦'), ('J', '♦'), ('Q', '♦'), ('K', '♦'), ('A', '♠'), ('2', '♠'), ('3', '♠'), ('4', '♠'), ('5', '♠'), ('6', '♠'), ('7', '♠'), ('8', '♠'), ('9', '♠'), ('10', '♠'), ('J', '♠'), ('Q', '♠'), ('K', '♠')]\n"
     ]
    }
   ],
   "source": [
    "deck1 = Deck()"
   ]
  },
  {
   "cell_type": "code",
   "execution_count": 290,
   "metadata": {},
   "outputs": [
    {
     "name": "stdout",
     "output_type": "stream",
     "text": [
      "[('Q', '♠'), ('4', '♥'), ('2', '♠'), ('6', '♠'), ('3', '♣'), ('A', '♦'), ('J', '♦'), ('8', '♦'), ('J', '♣'), ('9', '♠'), ('3', '♠'), ('A', '♠'), ('8', '♥'), ('2', '♦'), ('8', '♠'), ('A', '♣'), ('5', '♣'), ('J', '♥'), ('Q', '♥'), ('7', '♥'), ('K', '♦'), ('7', '♦'), ('K', '♥'), ('3', '♦'), ('9', '♦'), ('5', '♦'), ('3', '♥'), ('5', '♠'), ('9', '♥'), ('9', '♣'), ('7', '♣'), ('10', '♥'), ('8', '♣'), ('7', '♠'), ('4', '♦'), ('5', '♥'), ('K', '♠'), ('2', '♥'), ('2', '♣'), ('Q', '♣'), ('10', '♣'), ('K', '♣'), ('A', '♥'), ('6', '♣'), ('4', '♣'), ('4', '♠'), ('6', '♥'), ('Q', '♦'), ('J', '♠'), ('10', '♠'), ('10', '♦'), ('6', '♦')]\n"
     ]
    }
   ],
   "source": [
    "deck1.shuffle()"
   ]
  },
  {
   "cell_type": "code",
   "execution_count": 291,
   "metadata": {},
   "outputs": [
    {
     "name": "stdout",
     "output_type": "stream",
     "text": [
      "[('Q', '♠'), ('4', '♥'), ('2', '♠'), ('6', '♠'), ('3', '♣'), ('A', '♦'), ('J', '♦'), ('8', '♦'), ('J', '♣'), ('9', '♠'), ('3', '♠'), ('A', '♠'), ('8', '♥'), ('2', '♦'), ('8', '♠'), ('A', '♣'), ('5', '♣'), ('J', '♥'), ('Q', '♥'), ('7', '♥'), ('K', '♦'), ('7', '♦'), ('K', '♥'), ('3', '♦'), ('9', '♦'), ('5', '♦'), ('3', '♥'), ('5', '♠'), ('9', '♥'), ('9', '♣'), ('7', '♣'), ('10', '♥'), ('8', '♣'), ('7', '♠'), ('4', '♦'), ('5', '♥'), ('K', '♠'), ('2', '♥'), ('2', '♣'), ('Q', '♣'), ('10', '♣'), ('K', '♣'), ('A', '♥'), ('6', '♣'), ('4', '♣'), ('4', '♠'), ('6', '♥'), ('Q', '♦'), ('J', '♠'), ('10', '♠'), ('10', '♦'), ('6', '♦')]\n"
     ]
    }
   ],
   "source": [
    "deck1.print_deck()"
   ]
  },
  {
   "cell_type": "code",
   "execution_count": 292,
   "metadata": {},
   "outputs": [],
   "source": [
    "p1hand = Hand()"
   ]
  },
  {
   "cell_type": "code",
   "execution_count": 293,
   "metadata": {},
   "outputs": [
    {
     "name": "stdout",
     "output_type": "stream",
     "text": [
      "[('6', '♦')]\n"
     ]
    }
   ],
   "source": [
    "p1hand.draw(deck1)"
   ]
  },
  {
   "cell_type": "code",
   "execution_count": 294,
   "metadata": {},
   "outputs": [
    {
     "name": "stdout",
     "output_type": "stream",
     "text": [
      "6\n",
      "[6]\n",
      "6\n"
     ]
    }
   ],
   "source": [
    "p1hand.hand_value()"
   ]
  },
  {
   "cell_type": "code",
   "execution_count": 300,
   "metadata": {},
   "outputs": [
    {
     "name": "stdout",
     "output_type": "stream",
     "text": [
      "[('6', '♦'), ('10', '♦'), ('10', '♠'), ('J', '♠')]\n"
     ]
    }
   ],
   "source": [
    "p1hand.draw(deck1)"
   ]
  },
  {
   "cell_type": "code",
   "execution_count": 299,
   "metadata": {},
   "outputs": [
    {
     "name": "stdout",
     "output_type": "stream",
     "text": [
      "6\n",
      "10\n",
      "10\n",
      "[6, 10, 10]\n",
      "26\n"
     ]
    }
   ],
   "source": [
    "p1hand.hand_value()"
   ]
  },
  {
   "cell_type": "code",
   "execution_count": 297,
   "metadata": {},
   "outputs": [
    {
     "name": "stdout",
     "output_type": "stream",
     "text": [
      "6♦\n",
      "10♦\n"
     ]
    }
   ],
   "source": [
    "p1hand.print_hand()"
   ]
  },
  {
   "cell_type": "code",
   "execution_count": 148,
   "metadata": {},
   "outputs": [
    {
     "name": "stdout",
     "output_type": "stream",
     "text": [
      "[11]\n"
     ]
    }
   ],
   "source": []
  },
  {
   "cell_type": "code",
   "execution_count": null,
   "metadata": {},
   "outputs": [],
   "source": []
  },
  {
   "cell_type": "code",
   "execution_count": null,
   "metadata": {},
   "outputs": [],
   "source": []
  }
 ],
 "metadata": {
  "kernelspec": {
   "display_name": "Python 3",
   "language": "python",
   "name": "python3"
  },
  "language_info": {
   "codemirror_mode": {
    "name": "ipython",
    "version": 3
   },
   "file_extension": ".py",
   "mimetype": "text/x-python",
   "name": "python",
   "nbconvert_exporter": "python",
   "pygments_lexer": "ipython3",
   "version": "3.6.3"
  }
 },
 "nbformat": 4,
 "nbformat_minor": 2
}
