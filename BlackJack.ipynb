{
 "cells": [
  {
   "cell_type": "code",
   "execution_count": 1015,
   "metadata": {},
   "outputs": [],
   "source": [
    "from random import shuffle\n",
    "from decimal import Decimal\n",
    "\n",
    "class Deck(Card):\n",
    "    \n",
    "    def __init__(self):\n",
    "        Card.__init__(self)\n",
    "        self.deck = []   \n",
    "        for self.suit in Deck.suits:\n",
    "            for self.pip in Deck.pips:\n",
    "                card = (self.pip, self.suit)\n",
    "                self.deck.append(card)\n",
    "        #print(self.deck)\n",
    "        \n",
    "    def print_deck(self):\n",
    "        print(self.deck)\n",
    "        \n",
    "    def shuffle(self):\n",
    "        shuffle(self.deck)\n",
    "        #print(self.deck)\n",
    "        \n",
    "    def draw_card(self): \n",
    "        return self.deck.pop()\n",
    "    \n",
    "class Card():\n",
    "    \n",
    "    pips = [\"A\",\"2\",\"3\",\"4\",\"5\",\"6\",\"7\",\"8\",\"9\",\"10\",\"J\",\"Q\",\"K\"]\n",
    "    suits = [\"\\u2663\", \"\\u2665\", \"\\u2666\", \"\\u2660\"]\n",
    "    \n",
    "    def __init__(self):\n",
    "        pass\n",
    "        \n",
    "        \n",
    "    \n",
    "class Hand():\n",
    "    \n",
    "    def __init__(self):\n",
    "        self.cards = []\n",
    "        \n",
    "    def hit(self, deck):\n",
    "        self.cards.append(deck.draw_card())\n",
    "        print(self.cards)\n",
    "        \n",
    "    def show_card(self):\n",
    "        if self.card[0] == \"10\":\n",
    "            print(\" ___________\")\n",
    "            print(\"|{}{}        |\".format(self.card[0], self.card[1])) \n",
    "        else:\n",
    "            print(\" ___________\")\n",
    "            print(\"|{}{}         |\".format(self.card[0], self.card[1]))\n",
    "                \n",
    "    def show_hand(self):\n",
    "        for self.card in self.cards:\n",
    "            self.show_card()\n",
    "            \n",
    "        \n",
    "    def hand_value(self):\n",
    "        self.value = []\n",
    "        for self.card in self.cards:\n",
    "            print(self.card[0])\n",
    "            if self.card[0] in [\"J\", \"Q\", \"K\"]:  # this will need to be refined \n",
    "                self.value.append(10)\n",
    "            elif self.card[0] == \"A\":\n",
    "                self.value.append(11)\n",
    "            else:\n",
    "                self.value.append(int(self.card[0]))\n",
    "        print(self.value)\n",
    "        hand_value = sum(self.value)\n",
    "        print(hand_value)\n",
    "        \n",
    "class Dealer_hand(Hand):\n",
    "    \n",
    "    def __init__(self):\n",
    "        Hand.__init__(self)\n",
    "    \n",
    "    def print_hiden(self):  # needs refinement\n",
    "        for self.card in self.cards:\n",
    "            if self.card == (self.cards[-1]):\n",
    "                print(\" ___________\")\n",
    "                print(\"|??         |\")\n",
    "            else:\n",
    "                self.show_card()\n",
    "   \n",
    "    "
   ]
  },
  {
   "cell_type": "code",
   "execution_count": 1016,
   "metadata": {},
   "outputs": [],
   "source": [
    "deck1 = Deck()"
   ]
  },
  {
   "cell_type": "code",
   "execution_count": 1017,
   "metadata": {},
   "outputs": [],
   "source": [
    "deck1.shuffle()"
   ]
  },
  {
   "cell_type": "code",
   "execution_count": 1018,
   "metadata": {},
   "outputs": [
    {
     "name": "stdout",
     "output_type": "stream",
     "text": [
      "[('3', '♦'), ('A', '♦'), ('A', '♠'), ('8', '♠'), ('4', '♦'), ('9', '♣'), ('5', '♥'), ('9', '♠'), ('7', '♥'), ('Q', '♥'), ('Q', '♠'), ('10', '♠'), ('3', '♠'), ('Q', '♣'), ('K', '♥'), ('A', '♣'), ('3', '♣'), ('6', '♥'), ('2', '♣'), ('J', '♣'), ('4', '♥'), ('J', '♠'), ('10', '♥'), ('9', '♦'), ('8', '♥'), ('10', '♦'), ('K', '♣'), ('K', '♦'), ('8', '♣'), ('8', '♦'), ('5', '♠'), ('6', '♦'), ('K', '♠'), ('7', '♠'), ('J', '♦'), ('7', '♦'), ('6', '♠'), ('2', '♦'), ('4', '♠'), ('7', '♣'), ('2', '♠'), ('J', '♥'), ('A', '♥'), ('Q', '♦'), ('9', '♥'), ('2', '♥'), ('5', '♣'), ('3', '♥'), ('5', '♦'), ('4', '♣'), ('10', '♣'), ('6', '♣')]\n"
     ]
    }
   ],
   "source": [
    "deck1.print_deck()"
   ]
  },
  {
   "cell_type": "code",
   "execution_count": 1019,
   "metadata": {},
   "outputs": [],
   "source": [
    "p1hand = Hand()"
   ]
  },
  {
   "cell_type": "code",
   "execution_count": 1020,
   "metadata": {},
   "outputs": [
    {
     "name": "stdout",
     "output_type": "stream",
     "text": [
      "[('6', '♣')]\n"
     ]
    }
   ],
   "source": [
    "p1hand.hit(deck1)"
   ]
  },
  {
   "cell_type": "code",
   "execution_count": 1021,
   "metadata": {},
   "outputs": [
    {
     "name": "stdout",
     "output_type": "stream",
     "text": [
      "6\n",
      "[6]\n",
      "6\n"
     ]
    }
   ],
   "source": [
    "p1hand.hand_value()"
   ]
  },
  {
   "cell_type": "code",
   "execution_count": 1022,
   "metadata": {},
   "outputs": [
    {
     "name": "stdout",
     "output_type": "stream",
     "text": [
      "[('6', '♣'), ('10', '♣')]\n"
     ]
    }
   ],
   "source": [
    "p1hand.hit(deck1)"
   ]
  },
  {
   "cell_type": "code",
   "execution_count": 1023,
   "metadata": {},
   "outputs": [
    {
     "name": "stdout",
     "output_type": "stream",
     "text": [
      "6\n",
      "10\n",
      "[6, 10]\n",
      "16\n"
     ]
    }
   ],
   "source": [
    "p1hand.hand_value()"
   ]
  },
  {
   "cell_type": "code",
   "execution_count": 1024,
   "metadata": {},
   "outputs": [
    {
     "name": "stdout",
     "output_type": "stream",
     "text": [
      " ___________\n",
      "|6♣         |\n",
      " ___________\n",
      "|10♣        |\n"
     ]
    }
   ],
   "source": [
    "p1hand.show_hand()"
   ]
  },
  {
   "cell_type": "code",
   "execution_count": 1025,
   "metadata": {},
   "outputs": [],
   "source": [
    "dhand = Dealer_hand()"
   ]
  },
  {
   "cell_type": "code",
   "execution_count": 1026,
   "metadata": {},
   "outputs": [
    {
     "name": "stdout",
     "output_type": "stream",
     "text": [
      "[('4', '♣')]\n"
     ]
    }
   ],
   "source": [
    "dhand.hit(deck1)"
   ]
  },
  {
   "cell_type": "code",
   "execution_count": 1027,
   "metadata": {},
   "outputs": [
    {
     "name": "stdout",
     "output_type": "stream",
     "text": [
      "[('4', '♣'), ('5', '♦')]\n",
      "[('4', '♣'), ('5', '♦'), ('3', '♥')]\n"
     ]
    }
   ],
   "source": [
    "dhand.hit(deck1)\n",
    "dhand.hit(deck1)"
   ]
  },
  {
   "cell_type": "code",
   "execution_count": 1028,
   "metadata": {},
   "outputs": [
    {
     "name": "stdout",
     "output_type": "stream",
     "text": [
      "4\n",
      "5\n",
      "3\n",
      "[4, 5, 3]\n",
      "12\n"
     ]
    }
   ],
   "source": [
    "dhand.hand_value()"
   ]
  },
  {
   "cell_type": "code",
   "execution_count": 1029,
   "metadata": {},
   "outputs": [
    {
     "name": "stdout",
     "output_type": "stream",
     "text": [
      " ___________\n",
      "|4♣         |\n",
      " ___________\n",
      "|5♦         |\n",
      " ___________\n",
      "|??         |\n"
     ]
    }
   ],
   "source": [
    "dhand.print_hiden()"
   ]
  },
  {
   "cell_type": "code",
   "execution_count": null,
   "metadata": {},
   "outputs": [],
   "source": []
  },
  {
   "cell_type": "code",
   "execution_count": null,
   "metadata": {},
   "outputs": [],
   "source": []
  },
  {
   "cell_type": "code",
   "execution_count": null,
   "metadata": {},
   "outputs": [],
   "source": []
  },
  {
   "cell_type": "code",
   "execution_count": null,
   "metadata": {},
   "outputs": [],
   "source": []
  },
  {
   "cell_type": "code",
   "execution_count": null,
   "metadata": {},
   "outputs": [],
   "source": []
  }
 ],
 "metadata": {
  "kernelspec": {
   "display_name": "Python 3",
   "language": "python",
   "name": "python3"
  },
  "language_info": {
   "codemirror_mode": {
    "name": "ipython",
    "version": 3
   },
   "file_extension": ".py",
   "mimetype": "text/x-python",
   "name": "python",
   "nbconvert_exporter": "python",
   "pygments_lexer": "ipython3",
   "version": "3.6.3"
  }
 },
 "nbformat": 4,
 "nbformat_minor": 2
}
