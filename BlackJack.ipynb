{
 "cells": [
  {
   "cell_type": "code",
   "execution_count": 41,
   "metadata": {},
   "outputs": [],
   "source": [
    "from random import shuffle\n",
    "from decimal import Decimal\n",
    "\n",
    "class Deck():\n",
    "    \n",
    "    pips = [\"A\",\"2\",\"3\",\"4\",\"5\",\"6\",\"7\",\"8\",\"9\",\"10\",\"J\",\"Q\",\"K\"]\n",
    "    suits = [\"\\u2663\", \"\\u2665\", \"\\u2666\", \"\\u2660\"]\n",
    "    \n",
    "    def __init__(self):\n",
    "        self.deck = []   \n",
    "        for self.suit in Deck.suits:\n",
    "            for self.pip in Deck.pips:\n",
    "                card = (self.pip, self.suit)\n",
    "                self.deck.append(card)\n",
    "        #print(self.deck)\n",
    "        \n",
    "    def print_deck(self):\n",
    "        print(self.deck)\n",
    "        \n",
    "    def shuffle(self):\n",
    "        shuffle(self.deck)\n",
    "        print(self.deck)\n",
    "        \n",
    "    def draw_card(self): \n",
    "        return self.deck.pop()\n",
    "    \n",
    "class Hand():\n",
    "    \n",
    "    def __init__(self):\n",
    "        self.cards = []\n",
    "        \n",
    "    def hit(self, deck):\n",
    "        self.cards.append(deck.draw_card())\n",
    "        print(self.cards)\n",
    "        \n",
    "    def show_card(self):\n",
    "        if self.card[0] == \"10\":\n",
    "            print(\" ___________\")\n",
    "            print(\"|{}{}        |\".format(self.card[0], self.card[1])) \n",
    "        else:\n",
    "            print(\" ___________\")\n",
    "            print(\"|{}{}         |\".format(self.card[0], self.card[1]))\n",
    "                \n",
    "    def show_hand(self):\n",
    "        for self.card in self.cards:\n",
    "            self.show_card()\n",
    "            \n",
    "        \n",
    "    def hand_value(self):\n",
    "        self.value = []\n",
    "        for self.card in self.cards:\n",
    "            print(self.card[0])\n",
    "            if self.card[0] in [\"J\", \"Q\", \"K\"]:  # this will need to be refined \n",
    "                self.value.append(10)\n",
    "            elif self.card[0] == \"A\":\n",
    "                self.value.append(11)\n",
    "            else:\n",
    "                self.value.append(int(self.card[0]))\n",
    "        print(self.value)\n",
    "        hand_value = sum(self.value)\n",
    "        print(hand_value)\n",
    "        \n",
    "class Dealer_hand(Hand):\n",
    "    \n",
    "    def __init__(self):\n",
    "        Hand.__init__(self)\n",
    "    \n",
    "    def show_hidden(self):  # needs refinement\n",
    "        for self.card in self.cards:\n",
    "            if self.card == (self.cards[-1]):\n",
    "                print(\" ___________\")\n",
    "                print(\"|??         |\")\n",
    "            else:\n",
    "                self.show_card()\n",
    "\n",
    "\n",
    "\n",
    "    "
   ]
  },
  {
   "cell_type": "code",
   "execution_count": 42,
   "metadata": {},
   "outputs": [],
   "source": [
    "deck = Deck()\n",
    "p1hand = Hand()\n",
    "dhand = Dealer_hand()"
   ]
  },
  {
   "cell_type": "code",
   "execution_count": 43,
   "metadata": {},
   "outputs": [
    {
     "name": "stdout",
     "output_type": "stream",
     "text": [
      "[('A', '♣'), ('2', '♣'), ('3', '♣'), ('4', '♣'), ('5', '♣'), ('6', '♣'), ('7', '♣'), ('8', '♣'), ('9', '♣'), ('10', '♣'), ('J', '♣'), ('Q', '♣'), ('K', '♣'), ('A', '♥'), ('2', '♥'), ('3', '♥'), ('4', '♥'), ('5', '♥'), ('6', '♥'), ('7', '♥'), ('8', '♥'), ('9', '♥'), ('10', '♥'), ('J', '♥'), ('Q', '♥'), ('K', '♥'), ('A', '♦'), ('2', '♦'), ('3', '♦'), ('4', '♦'), ('5', '♦'), ('6', '♦'), ('7', '♦'), ('8', '♦'), ('9', '♦'), ('10', '♦'), ('J', '♦'), ('Q', '♦'), ('K', '♦'), ('A', '♠'), ('2', '♠'), ('3', '♠'), ('4', '♠'), ('5', '♠'), ('6', '♠'), ('7', '♠'), ('8', '♠'), ('9', '♠'), ('10', '♠'), ('J', '♠'), ('Q', '♠'), ('K', '♠')]\n"
     ]
    }
   ],
   "source": [
    "deck.print_deck()"
   ]
  },
  {
   "cell_type": "code",
   "execution_count": 44,
   "metadata": {},
   "outputs": [
    {
     "name": "stdout",
     "output_type": "stream",
     "text": [
      "[('10', '♦'), ('K', '♣'), ('A', '♠'), ('5', '♥'), ('8', '♠'), ('3', '♠'), ('2', '♦'), ('3', '♥'), ('6', '♠'), ('K', '♦'), ('7', '♦'), ('6', '♦'), ('4', '♠'), ('10', '♥'), ('Q', '♦'), ('9', '♠'), ('K', '♠'), ('3', '♦'), ('A', '♦'), ('J', '♥'), ('6', '♣'), ('9', '♥'), ('2', '♠'), ('2', '♥'), ('4', '♥'), ('2', '♣'), ('4', '♣'), ('9', '♦'), ('5', '♠'), ('J', '♦'), ('6', '♥'), ('4', '♦'), ('J', '♠'), ('Q', '♣'), ('8', '♣'), ('3', '♣'), ('Q', '♥'), ('5', '♣'), ('7', '♠'), ('8', '♥'), ('A', '♥'), ('J', '♣'), ('5', '♦'), ('Q', '♠'), ('K', '♥'), ('A', '♣'), ('9', '♣'), ('10', '♠'), ('7', '♣'), ('8', '♦'), ('10', '♣'), ('7', '♥')]\n"
     ]
    }
   ],
   "source": [
    "deck.shuffle()"
   ]
  },
  {
   "cell_type": "code",
   "execution_count": 45,
   "metadata": {},
   "outputs": [
    {
     "name": "stdout",
     "output_type": "stream",
     "text": [
      "[('7', '♥')]\n",
      "[('7', '♥'), ('10', '♣')]\n"
     ]
    }
   ],
   "source": [
    "p1hand.hit(deck)\n",
    "p1hand.hit(deck)"
   ]
  },
  {
   "cell_type": "code",
   "execution_count": 46,
   "metadata": {},
   "outputs": [
    {
     "name": "stdout",
     "output_type": "stream",
     "text": [
      "[('8', '♦')]\n",
      "[('8', '♦'), ('7', '♣')]\n",
      "[('8', '♦'), ('7', '♣'), ('10', '♠')]\n"
     ]
    }
   ],
   "source": [
    "dhand.hit(deck)\n",
    "dhand.hit(deck)\n",
    "dhand.hit(deck)"
   ]
  },
  {
   "cell_type": "code",
   "execution_count": 47,
   "metadata": {},
   "outputs": [
    {
     "name": "stdout",
     "output_type": "stream",
     "text": [
      " ___________\n",
      "|7♥         |\n",
      " ___________\n",
      "|10♣        |\n"
     ]
    }
   ],
   "source": [
    "p1hand.show_hand()"
   ]
  },
  {
   "cell_type": "code",
   "execution_count": 48,
   "metadata": {},
   "outputs": [
    {
     "name": "stdout",
     "output_type": "stream",
     "text": [
      " ___________\n",
      "|8♦         |\n",
      " ___________\n",
      "|7♣         |\n",
      " ___________\n",
      "|??         |\n"
     ]
    }
   ],
   "source": [
    "dhand.show_hidden()"
   ]
  },
  {
   "cell_type": "code",
   "execution_count": 49,
   "metadata": {},
   "outputs": [
    {
     "name": "stdout",
     "output_type": "stream",
     "text": [
      "7\n",
      "10\n",
      "[7, 10]\n",
      "17\n"
     ]
    }
   ],
   "source": [
    "p1hand.hand_value()"
   ]
  },
  {
   "cell_type": "code",
   "execution_count": 50,
   "metadata": {},
   "outputs": [
    {
     "name": "stdout",
     "output_type": "stream",
     "text": [
      "8\n",
      "7\n",
      "10\n",
      "[8, 7, 10]\n",
      "25\n"
     ]
    }
   ],
   "source": [
    "dhand.hand_value()"
   ]
  },
  {
   "cell_type": "code",
   "execution_count": null,
   "metadata": {},
   "outputs": [],
   "source": []
  },
  {
   "cell_type": "code",
   "execution_count": null,
   "metadata": {},
   "outputs": [],
   "source": []
  }
 ],
 "metadata": {
  "kernelspec": {
   "display_name": "Python 3",
   "language": "python",
   "name": "python3"
  },
  "language_info": {
   "codemirror_mode": {
    "name": "ipython",
    "version": 3
   },
   "file_extension": ".py",
   "mimetype": "text/x-python",
   "name": "python",
   "nbconvert_exporter": "python",
   "pygments_lexer": "ipython3",
   "version": "3.6.3"
  }
 },
 "nbformat": 4,
 "nbformat_minor": 2
}
