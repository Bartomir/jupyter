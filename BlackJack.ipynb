{
 "cells": [
  {
   "cell_type": "code",
   "execution_count": 902,
   "metadata": {},
   "outputs": [],
   "source": [
    "from random import shuffle\n",
    "from decimal import Decimal\n",
    "\n",
    "class Deck():\n",
    "    \n",
    "    pips = (\"A\",\"2\",\"3\",\"4\",\"5\",\"6\",\"7\",\"8\",\"9\",\"10\",)\n",
    "    suits = (\"\\u2663\", \"\\u2665\", \"\\u2666\", \"\\u2660\")\n",
    "    \n",
    "    def __init__(self):\n",
    "        self.deck = []   \n",
    "        for self.suit in Deck.suits:\n",
    "            for self.pip in Deck.pips:\n",
    "                card = (self.pip, self.suit)\n",
    "                self.deck.append(card)\n",
    "        print(self.deck)\n",
    "        \n",
    "    def print_deck(self):\n",
    "        print(self.deck)\n",
    "        \n",
    "    def shuffle(self):\n",
    "        shuffle(self.deck)\n",
    "        print(self.deck)\n",
    "        \n",
    "    def draw(self): \n",
    "        return self.deck.pop()\n",
    "        \n",
    "class Hand():\n",
    "    \n",
    "    def __init__(self):\n",
    "        self.cards = []\n",
    "        \n",
    "    def draw(self, deck):\n",
    "        self.cards.append(deck.draw())\n",
    "        print(self.cards)\n",
    "        \n",
    "    def print_hand(self):\n",
    "        for self.card in self.cards:\n",
    "            print(\"{}{}\".format(self.card[0], self.card[1])) \n",
    "        \n",
    "    def calc_value(self):\n",
    "        self.value = []\n",
    "        for self.card in self.cards:\n",
    "            if self.card == \"A\":\n",
    "                self.value.append(11)\n",
    "            elif self.card == (\"J\",\"Q\",\"K\"):\n",
    "                self.value.append(10)\n",
    "            else:\n",
    "                self.value.append(int(self.card[0]))\n",
    "        print(sum(self.value))\n",
    "   \n",
    "    "
   ]
  },
  {
   "cell_type": "code",
   "execution_count": 903,
   "metadata": {},
   "outputs": [
    {
     "name": "stdout",
     "output_type": "stream",
     "text": [
      "[('A', '♣'), ('2', '♣'), ('3', '♣'), ('4', '♣'), ('5', '♣'), ('6', '♣'), ('7', '♣'), ('8', '♣'), ('9', '♣'), ('10', '♣'), ('A', '♥'), ('2', '♥'), ('3', '♥'), ('4', '♥'), ('5', '♥'), ('6', '♥'), ('7', '♥'), ('8', '♥'), ('9', '♥'), ('10', '♥'), ('A', '♦'), ('2', '♦'), ('3', '♦'), ('4', '♦'), ('5', '♦'), ('6', '♦'), ('7', '♦'), ('8', '♦'), ('9', '♦'), ('10', '♦'), ('A', '♠'), ('2', '♠'), ('3', '♠'), ('4', '♠'), ('5', '♠'), ('6', '♠'), ('7', '♠'), ('8', '♠'), ('9', '♠'), ('10', '♠')]\n"
     ]
    }
   ],
   "source": [
    "deck1 = Deck()"
   ]
  },
  {
   "cell_type": "code",
   "execution_count": 904,
   "metadata": {},
   "outputs": [
    {
     "name": "stdout",
     "output_type": "stream",
     "text": [
      "[('5', '♦'), ('3', '♠'), ('2', '♦'), ('4', '♥'), ('10', '♣'), ('9', '♥'), ('4', '♦'), ('8', '♠'), ('6', '♥'), ('2', '♠'), ('7', '♥'), ('8', '♥'), ('10', '♥'), ('8', '♦'), ('5', '♠'), ('10', '♠'), ('5', '♥'), ('3', '♣'), ('7', '♠'), ('3', '♥'), ('A', '♥'), ('5', '♣'), ('7', '♣'), ('6', '♣'), ('3', '♦'), ('8', '♣'), ('2', '♣'), ('4', '♠'), ('4', '♣'), ('9', '♠'), ('9', '♣'), ('A', '♣'), ('9', '♦'), ('A', '♠'), ('10', '♦'), ('6', '♠'), ('A', '♦'), ('6', '♦'), ('2', '♥'), ('7', '♦')]\n"
     ]
    }
   ],
   "source": [
    "deck1.shuffle()"
   ]
  },
  {
   "cell_type": "code",
   "execution_count": 905,
   "metadata": {},
   "outputs": [
    {
     "name": "stdout",
     "output_type": "stream",
     "text": [
      "[('5', '♦'), ('3', '♠'), ('2', '♦'), ('4', '♥'), ('10', '♣'), ('9', '♥'), ('4', '♦'), ('8', '♠'), ('6', '♥'), ('2', '♠'), ('7', '♥'), ('8', '♥'), ('10', '♥'), ('8', '♦'), ('5', '♠'), ('10', '♠'), ('5', '♥'), ('3', '♣'), ('7', '♠'), ('3', '♥'), ('A', '♥'), ('5', '♣'), ('7', '♣'), ('6', '♣'), ('3', '♦'), ('8', '♣'), ('2', '♣'), ('4', '♠'), ('4', '♣'), ('9', '♠'), ('9', '♣'), ('A', '♣'), ('9', '♦'), ('A', '♠'), ('10', '♦'), ('6', '♠'), ('A', '♦'), ('6', '♦'), ('2', '♥'), ('7', '♦')]\n"
     ]
    }
   ],
   "source": [
    "deck1.print_deck()"
   ]
  },
  {
   "cell_type": "code",
   "execution_count": 906,
   "metadata": {},
   "outputs": [],
   "source": [
    "p1hand = Hand()"
   ]
  },
  {
   "cell_type": "code",
   "execution_count": 907,
   "metadata": {},
   "outputs": [
    {
     "name": "stdout",
     "output_type": "stream",
     "text": [
      "[('7', '♦')]\n"
     ]
    }
   ],
   "source": [
    "p1hand.draw(deck1)"
   ]
  },
  {
   "cell_type": "code",
   "execution_count": 908,
   "metadata": {},
   "outputs": [
    {
     "name": "stdout",
     "output_type": "stream",
     "text": [
      "7\n"
     ]
    }
   ],
   "source": [
    "p1hand.calc_value()"
   ]
  },
  {
   "cell_type": "code",
   "execution_count": 909,
   "metadata": {},
   "outputs": [
    {
     "name": "stdout",
     "output_type": "stream",
     "text": [
      "[('7', '♦'), ('2', '♥')]\n"
     ]
    }
   ],
   "source": [
    "p1hand.draw(deck1)"
   ]
  },
  {
   "cell_type": "code",
   "execution_count": 910,
   "metadata": {},
   "outputs": [
    {
     "name": "stdout",
     "output_type": "stream",
     "text": [
      "9\n"
     ]
    }
   ],
   "source": [
    "p1hand.calc_value()"
   ]
  },
  {
   "cell_type": "code",
   "execution_count": 911,
   "metadata": {},
   "outputs": [
    {
     "name": "stdout",
     "output_type": "stream",
     "text": [
      "7♦\n",
      "2♥\n"
     ]
    }
   ],
   "source": [
    "p1hand.print_hand()"
   ]
  },
  {
   "cell_type": "code",
   "execution_count": 912,
   "metadata": {},
   "outputs": [
    {
     "ename": "AttributeError",
     "evalue": "'Hand' object has no attribute 'hand_value'",
     "output_type": "error",
     "traceback": [
      "\u001b[0;31m---------------------------------------------------------------------------\u001b[0m",
      "\u001b[0;31mAttributeError\u001b[0m                            Traceback (most recent call last)",
      "\u001b[0;32m<ipython-input-912-faca81bc5724>\u001b[0m in \u001b[0;36m<module>\u001b[0;34m()\u001b[0m\n\u001b[0;32m----> 1\u001b[0;31m \u001b[0mp1hand\u001b[0m\u001b[0;34m.\u001b[0m\u001b[0mhand_value\u001b[0m\u001b[0;34m(\u001b[0m\u001b[0;34m)\u001b[0m\u001b[0;34m\u001b[0m\u001b[0m\n\u001b[0m",
      "\u001b[0;31mAttributeError\u001b[0m: 'Hand' object has no attribute 'hand_value'"
     ]
    }
   ],
   "source": [
    "p1hand.hand_value()"
   ]
  },
  {
   "cell_type": "code",
   "execution_count": null,
   "metadata": {},
   "outputs": [],
   "source": []
  },
  {
   "cell_type": "code",
   "execution_count": null,
   "metadata": {},
   "outputs": [],
   "source": []
  },
  {
   "cell_type": "code",
   "execution_count": null,
   "metadata": {},
   "outputs": [],
   "source": []
  }
 ],
 "metadata": {
  "kernelspec": {
   "display_name": "Python 3",
   "language": "python",
   "name": "python3"
  },
  "language_info": {
   "codemirror_mode": {
    "name": "ipython",
    "version": 3
   },
   "file_extension": ".py",
   "mimetype": "text/x-python",
   "name": "python",
   "nbconvert_exporter": "python",
   "pygments_lexer": "ipython3",
   "version": "3.6.3"
  }
 },
 "nbformat": 4,
 "nbformat_minor": 2
}
