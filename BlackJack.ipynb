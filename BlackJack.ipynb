{
 "cells": [
  {
   "cell_type": "code",
   "execution_count": 92,
   "metadata": {},
   "outputs": [],
   "source": [
    "from random import shuffle\n",
    "import decimal \n",
    "\n",
    "class Card():\n",
    "    def __init__(self, value, suit, pip):\n",
    "        self.value = value\n",
    "        self.suit = suit\n",
    "        self.pip = pip\n",
    "        \n",
    "    def __repr__(self):\n",
    "        return f' {self.pip}{self.suit}'\n",
    "    \n",
    "    def show(self):\n",
    "        if self.pip == \"10\":\n",
    "            print(\" ___________\")\n",
    "            print(\"|{}{}        |\".format(self.pip, self.suit))\n",
    "        else:\n",
    "            print(\" ___________\")\n",
    "            print(\"|{}{}         |\".format(self.pip, self.suit))\n",
    "        \n",
    "    \n",
    "class Deck():  \n",
    "    pips = [(\"A\", 11), (\"2\", 2), (\"3\", 3), (\"4\", 4), (\"5\", 5), (\"6\", 6), (\"7\", 7), (\"8\", 8), (\"9\", 9), (\"10\", 10), (\"J\", 10), (\"Q\", 10), (\"K\", 10)] # refine\n",
    "    suits = [\"\\u2663\", \"\\u2665\", \"\\u2666\", \"\\u2660\"]\n",
    "    \n",
    "    def __init__(self):\n",
    "        super().__init__()\n",
    "        self.deck = []   \n",
    "        for suit in self.suits:\n",
    "            for pip, value in self.pips:\n",
    "                new_card = Card(value=value, suit=suit, pip=pip)\n",
    "                self.deck.append(new_card)\n",
    "\n",
    "    def __str__(self):\n",
    "        return self.deck\n",
    "        \n",
    "    def shuffle(self):\n",
    "        shuffle(self.deck)\n",
    "        \n",
    "    def draw_card(self): \n",
    "        return self.deck.pop()\n",
    "    \n",
    "    def show(self):\n",
    "        for card in self.deck:\n",
    "            card.show()\n",
    "    \n",
    "class Hand():  \n",
    "    def __init__(self):\n",
    "        super().__init__()\n",
    "        self.cards = []\n",
    "        \n",
    "    def hit(self, deck):\n",
    "        self.cards.append(deck.draw_card())\n",
    "                \n",
    "    def show(self):\n",
    "        for card in self.cards:\n",
    "            card.show()\n",
    "             \n",
    "    def get_value(self):\n",
    "        hand_value = 0\n",
    "        for card in self.cards:\n",
    "            hand_value += card.value\n",
    "        print(hand_value)\n",
    "        \n",
    "            \n",
    "        \n",
    "class DealerHand(Hand):\n",
    "    \n",
    "    def __init__(self):\n",
    "        super().__init__()\n",
    "    \n",
    "    def show(self):\n",
    "        for card in self.cards[:-1]:\n",
    "            card.show()\n",
    "        print(\" ___________\")\n",
    "        print(\"|??         |\")\n",
    "\n",
    "\n",
    "class Player(Hand):\n",
    "    \n",
    "    def __init__(self):\n",
    "        super().__init__()\n",
    "        self.name = input(\"What's your name punk? \")\n",
    "        while True:\n",
    "            self.money = self.validator(input(\"How much do you have? \")) #  ok this is shit, nevermind\n",
    "            if self.money > 0:\n",
    "                break\n",
    "        \n",
    "    def validator(self, amount):\n",
    "        try:\n",
    "            return (decimal.Decimal(amount).quantize(decimal.Decimal('.01'), rounding=decimal.ROUND_DOWN))\n",
    "        except decimal.InvalidOperation:\n",
    "            print(\"{}!? You're nuts or something?\".format(amount))\n",
    "            return 0\n",
    "            \n",
    "        \n",
    "    def bet(self, amount):\n",
    "        if self.validator(amount) <= self.balance:\n",
    "            self.balance -= self.validator(amount)\n",
    "            self.check()"
   ]
  },
  {
   "cell_type": "code",
   "execution_count": 93,
   "metadata": {},
   "outputs": [],
   "source": [
    "deck = Deck()\n",
    "p1hand = Hand()\n",
    "dhand = DealerHand()\n"
   ]
  },
  {
   "cell_type": "code",
   "execution_count": 94,
   "metadata": {},
   "outputs": [
    {
     "name": "stdout",
     "output_type": "stream",
     "text": [
      " ___________\n",
      "|A♣         |\n",
      " ___________\n",
      "|2♣         |\n",
      " ___________\n",
      "|3♣         |\n",
      " ___________\n",
      "|4♣         |\n",
      " ___________\n",
      "|5♣         |\n",
      " ___________\n",
      "|6♣         |\n",
      " ___________\n",
      "|7♣         |\n",
      " ___________\n",
      "|8♣         |\n",
      " ___________\n",
      "|9♣         |\n",
      " ___________\n",
      "|10♣        |\n",
      " ___________\n",
      "|J♣         |\n",
      " ___________\n",
      "|Q♣         |\n",
      " ___________\n",
      "|K♣         |\n",
      " ___________\n",
      "|A♥         |\n",
      " ___________\n",
      "|2♥         |\n",
      " ___________\n",
      "|3♥         |\n",
      " ___________\n",
      "|4♥         |\n",
      " ___________\n",
      "|5♥         |\n",
      " ___________\n",
      "|6♥         |\n",
      " ___________\n",
      "|7♥         |\n",
      " ___________\n",
      "|8♥         |\n",
      " ___________\n",
      "|9♥         |\n",
      " ___________\n",
      "|10♥        |\n",
      " ___________\n",
      "|J♥         |\n",
      " ___________\n",
      "|Q♥         |\n",
      " ___________\n",
      "|K♥         |\n",
      " ___________\n",
      "|A♦         |\n",
      " ___________\n",
      "|2♦         |\n",
      " ___________\n",
      "|3♦         |\n",
      " ___________\n",
      "|4♦         |\n",
      " ___________\n",
      "|5♦         |\n",
      " ___________\n",
      "|6♦         |\n",
      " ___________\n",
      "|7♦         |\n",
      " ___________\n",
      "|8♦         |\n",
      " ___________\n",
      "|9♦         |\n",
      " ___________\n",
      "|10♦        |\n",
      " ___________\n",
      "|J♦         |\n",
      " ___________\n",
      "|Q♦         |\n",
      " ___________\n",
      "|K♦         |\n",
      " ___________\n",
      "|A♠         |\n",
      " ___________\n",
      "|2♠         |\n",
      " ___________\n",
      "|3♠         |\n",
      " ___________\n",
      "|4♠         |\n",
      " ___________\n",
      "|5♠         |\n",
      " ___________\n",
      "|6♠         |\n",
      " ___________\n",
      "|7♠         |\n",
      " ___________\n",
      "|8♠         |\n",
      " ___________\n",
      "|9♠         |\n",
      " ___________\n",
      "|10♠        |\n",
      " ___________\n",
      "|J♠         |\n",
      " ___________\n",
      "|Q♠         |\n",
      " ___________\n",
      "|K♠         |\n"
     ]
    }
   ],
   "source": [
    "deck.show()"
   ]
  },
  {
   "cell_type": "code",
   "execution_count": 95,
   "metadata": {},
   "outputs": [],
   "source": [
    "deck.shuffle()"
   ]
  },
  {
   "cell_type": "code",
   "execution_count": 96,
   "metadata": {},
   "outputs": [],
   "source": [
    "p1hand.hit(deck)\n",
    "p1hand.hit(deck)"
   ]
  },
  {
   "cell_type": "code",
   "execution_count": 97,
   "metadata": {},
   "outputs": [],
   "source": [
    "dhand.hit(deck)\n",
    "dhand.hit(deck)\n",
    "dhand.hit(deck)"
   ]
  },
  {
   "cell_type": "code",
   "execution_count": 98,
   "metadata": {},
   "outputs": [
    {
     "name": "stdout",
     "output_type": "stream",
     "text": [
      " ___________\n",
      "|4♠         |\n",
      " ___________\n",
      "|6♣         |\n"
     ]
    }
   ],
   "source": [
    "p1hand.show()"
   ]
  },
  {
   "cell_type": "code",
   "execution_count": 99,
   "metadata": {},
   "outputs": [
    {
     "name": "stdout",
     "output_type": "stream",
     "text": [
      " ___________\n",
      "|K♠         |\n",
      " ___________\n",
      "|8♣         |\n",
      " ___________\n",
      "|??         |\n"
     ]
    }
   ],
   "source": [
    "dhand.show()"
   ]
  },
  {
   "cell_type": "code",
   "execution_count": 100,
   "metadata": {},
   "outputs": [
    {
     "name": "stdout",
     "output_type": "stream",
     "text": [
      "10\n"
     ]
    }
   ],
   "source": [
    "p1hand.get_value()"
   ]
  },
  {
   "cell_type": "code",
   "execution_count": 101,
   "metadata": {},
   "outputs": [
    {
     "name": "stdout",
     "output_type": "stream",
     "text": [
      "29\n"
     ]
    }
   ],
   "source": [
    "dhand.get_value()"
   ]
  },
  {
   "cell_type": "code",
   "execution_count": 102,
   "metadata": {},
   "outputs": [
    {
     "name": "stdout",
     "output_type": "stream",
     "text": [
      "What's your name punk? ewq\n",
      "How much do you have? ewq\n",
      "ewq!? You're nuts or something?\n",
      "How much do you have? ewq\n",
      "ewq!? You're nuts or something?\n",
      "How much do you have? ewq\n",
      "ewq!? You're nuts or something?\n",
      "How much do you have? 123\n"
     ]
    },
    {
     "data": {
      "text/plain": [
       "<__main__.Player at 0x7fd46c0c7588>"
      ]
     },
     "execution_count": 102,
     "metadata": {},
     "output_type": "execute_result"
    }
   ],
   "source": [
    "Player()\n"
   ]
  },
  {
   "cell_type": "raw",
   "metadata": {},
   "source": []
  },
  {
   "cell_type": "code",
   "execution_count": null,
   "metadata": {},
   "outputs": [],
   "source": []
  },
  {
   "cell_type": "code",
   "execution_count": null,
   "metadata": {},
   "outputs": [],
   "source": []
  },
  {
   "cell_type": "code",
   "execution_count": null,
   "metadata": {},
   "outputs": [],
   "source": []
  }
 ],
 "metadata": {
  "kernelspec": {
   "display_name": "Python 3",
   "language": "python",
   "name": "python3"
  },
  "language_info": {
   "codemirror_mode": {
    "name": "ipython",
    "version": 3
   },
   "file_extension": ".py",
   "mimetype": "text/x-python",
   "name": "python",
   "nbconvert_exporter": "python",
   "pygments_lexer": "ipython3",
   "version": "3.6.3"
  }
 },
 "nbformat": 4,
 "nbformat_minor": 2
}
