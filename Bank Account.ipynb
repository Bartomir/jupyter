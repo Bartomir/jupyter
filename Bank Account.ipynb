{
 "cells": [
  {
   "cell_type": "code",
   "execution_count": 2,
   "metadata": {},
   "outputs": [],
   "source": [
    "from decimal import *\n",
    "\n",
    "class Account:\n",
    "\n",
    "    def __init__(self, name, balance):\n",
    "        self.name = name\n",
    "        self.balance = balance\n",
    "\n",
    "    def check(self):\n",
    "        print(self.name)\n",
    "        print(self.balance)\n",
    "        \n",
    "    def validator(self, amount):\n",
    "        try:\n",
    "            return (Decimal(amount).quantize(Decimal('.01'), rounding=ROUND_DOWN))\n",
    "        except InvalidOperation:\n",
    "            print(\"{}!? U Sure?\".format(amount))\n",
    "            return 0\n",
    "        \n",
    "                   \n",
    "    def deposit(self, amount):\n",
    "        self.balance += self.validator(amount)\n",
    "        self.check()\n",
    "    \n",
    "    def withdraw(self, amount):\n",
    "        if self.validator(amount) <= self.balance:\n",
    "            self.balance -= self.validator(amount)\n",
    "            self.check()\n",
    "            "
   ]
  },
  {
   "cell_type": "code",
   "execution_count": 3,
   "metadata": {},
   "outputs": [],
   "source": [
    "a1 = Account('Bart', 200)\n",
    "a2 = Account(\"Cheese\",400)"
   ]
  },
  {
   "cell_type": "code",
   "execution_count": 4,
   "metadata": {
    "scrolled": true
   },
   "outputs": [
    {
     "name": "stdout",
     "output_type": "stream",
     "text": [
      "Cheese\n",
      "400\n"
     ]
    }
   ],
   "source": [
    "a2.check()"
   ]
  },
  {
   "cell_type": "code",
   "execution_count": 5,
   "metadata": {},
   "outputs": [
    {
     "name": "stdout",
     "output_type": "stream",
     "text": [
      "Bart\n",
      "200\n"
     ]
    }
   ],
   "source": [
    "a1.check()"
   ]
  },
  {
   "cell_type": "code",
   "execution_count": 6,
   "metadata": {},
   "outputs": [
    {
     "name": "stdout",
     "output_type": "stream",
     "text": [
      "Bart\n",
      "500.00\n"
     ]
    }
   ],
   "source": [
    "a1.deposit(300)"
   ]
  },
  {
   "cell_type": "code",
   "execution_count": 7,
   "metadata": {},
   "outputs": [
    {
     "name": "stdout",
     "output_type": "stream",
     "text": [
      "Bart\n",
      "356.88\n"
     ]
    }
   ],
   "source": [
    "a1.withdraw(143.1266787878)"
   ]
  },
  {
   "cell_type": "code",
   "execution_count": 8,
   "metadata": {},
   "outputs": [
    {
     "data": {
      "text/plain": [
       "Decimal('3.14')"
      ]
     },
     "execution_count": 8,
     "metadata": {},
     "output_type": "execute_result"
    }
   ],
   "source": [
    "a1.validator(\"3.14\")"
   ]
  },
  {
   "cell_type": "code",
   "execution_count": 9,
   "metadata": {},
   "outputs": [
    {
     "name": "stdout",
     "output_type": "stream",
     "text": [
      "Bart\n",
      "353.74\n"
     ]
    }
   ],
   "source": [
    "a1.withdraw(\"3.14\")"
   ]
  },
  {
   "cell_type": "code",
   "execution_count": 469,
   "metadata": {},
   "outputs": [
    {
     "name": "stdout",
     "output_type": "stream",
     "text": [
      "jacek!? U Sure?\n",
      "Bart\n",
      "356.88\n"
     ]
    }
   ],
   "source": [
    "a1.deposit('jacek')\n"
   ]
  },
  {
   "cell_type": "code",
   "execution_count": 470,
   "metadata": {},
   "outputs": [
    {
     "name": "stdout",
     "output_type": "stream",
     "text": [
      "Cheese\n",
      "400\n"
     ]
    }
   ],
   "source": [
    "a2.check()"
   ]
  },
  {
   "cell_type": "code",
   "execution_count": 471,
   "metadata": {},
   "outputs": [
    {
     "name": "stdout",
     "output_type": "stream",
     "text": [
      "Bart\n",
      "356.88\n"
     ]
    }
   ],
   "source": [
    "a1.check()"
   ]
  },
  {
   "cell_type": "code",
   "execution_count": null,
   "metadata": {},
   "outputs": [],
   "source": []
  },
  {
   "cell_type": "code",
   "execution_count": null,
   "metadata": {},
   "outputs": [],
   "source": []
  }
 ],
 "metadata": {
  "kernelspec": {
   "display_name": "Python 3",
   "language": "python",
   "name": "python3"
  },
  "language_info": {
   "codemirror_mode": {
    "name": "ipython",
    "version": 3
   },
   "file_extension": ".py",
   "mimetype": "text/x-python",
   "name": "python",
   "nbconvert_exporter": "python",
   "pygments_lexer": "ipython3",
   "version": "3.6.3"
  }
 },
 "nbformat": 4,
 "nbformat_minor": 2
}
