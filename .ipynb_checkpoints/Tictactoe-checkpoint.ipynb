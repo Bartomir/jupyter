{
 "cells": [
  {
   "cell_type": "code",
   "execution_count": 27,
   "metadata": {
    "scrolled": true
   },
   "outputs": [],
   "source": [
    "def print_board(board):\n",
    "    for row in board:\n",
    "        print(\"|\".join(row))\n",
    "\n",
    "def take_turn(player, symbol):\n",
    "    while True:\n",
    "        row = int(input(\"{}, pick row: \".format(player))) - 1\n",
    "        col = int(input(\"{}, pick col: \".format(player))) - 1\n",
    "        if (row in range(3) and \n",
    "            col in range(3) and\n",
    "            board[row][col] == \"_\"):\n",
    "            break\n",
    "        print(\"You cannot choose this field\")\n",
    "    board[row][col] = symbol\n",
    "\n",
    "def game_won(): \n",
    "    print(\"Game Over! You've won!\")\n",
    "    print_board(board)\n"
   ]
  },
  {
   "cell_type": "code",
   "execution_count": 28,
   "metadata": {},
   "outputs": [
    {
     "name": "stdout",
     "output_type": "stream",
     "text": [
      "Game Over! You've won!\n",
      "X|X|X\n",
      "_|O|O\n",
      "_|_|_\n"
     ]
    },
    {
     "data": {
      "text/plain": [
       "False"
      ]
     },
     "execution_count": 28,
     "metadata": {},
     "output_type": "execute_result"
    }
   ],
   "source": [
    "def game_ongoing():\n",
    "    symbols = ['X', 'O']\n",
    "    for symbol in symbols:\n",
    "        # check if rows match\n",
    "        if [symbol, symbol, symbol] in board:\n",
    "            game_won()\n",
    "            return False\n",
    "        # check if columns match\n",
    "        for i in range(3):\n",
    "            if board[0][i] == board[1][i] == board[2][i] == symbol:\n",
    "                game_won()\n",
    "                return False\n",
    "        # indent matches complex logic condition\n",
    "        if (board[0][0] == board[1][1] == board[2][2] == symbol or\n",
    "            board[0][2] == board[1][1] == board[2][0] == symbol):\n",
    "            game_won\n",
    "            return False\n",
    "    # if neither matches, game goes on\n",
    "    return True"
   ]
  },
  {
   "cell_type": "code",
   "execution_count": 29,
   "metadata": {},
   "outputs": [
    {
     "name": "stdout",
     "output_type": "stream",
     "text": [
      "Turn 1\n",
      "_|_|_\n",
      "_|_|_\n",
      "_|_|_\n",
      "Player 1, pick row: 1\n",
      "Player 1, pick col: 1\n",
      "Turn 2\n",
      "X|_|_\n",
      "_|_|_\n",
      "_|_|_\n",
      "Player 2, pick row: 2\n",
      "Player 2, pick col: 2\n",
      "Turn 3\n",
      "X|_|_\n",
      "_|O|_\n",
      "_|_|_\n",
      "Player 1, pick row: 1\n",
      "Player 1, pick col: 1\n",
      "You cannot choose this field\n",
      "Player 1, pick row: 3\n",
      "Player 1, pick col: 3\n",
      "Turn 4\n",
      "X|_|_\n",
      "_|O|_\n",
      "_|_|X\n",
      "Player 2, pick row: 1\n",
      "Player 2, pick col: 2\n",
      "Turn 5\n",
      "X|O|_\n",
      "_|O|_\n",
      "_|_|X\n",
      "Player 1, pick row: 1\n",
      "Player 1, pick col: 3\n",
      "Turn 6\n",
      "X|O|X\n",
      "_|O|_\n",
      "_|_|X\n",
      "Player 2, pick row: 3\n",
      "Player 2, pick col: 2\n",
      "Game Over! You've won!\n",
      "X|O|X\n",
      "_|O|_\n",
      "_|O|X\n"
     ]
    }
   ],
   "source": [
    "turn = 1\n",
    "board = []\n",
    "\n",
    "for x in range(0, 3):\n",
    "    board.append([\"_\"] * 3)\n",
    "\n",
    "while game_ongoing():\n",
    "    print(\"Turn\", turn)\n",
    "    print_board(board)\n",
    "    if turn % 2:\n",
    "        player = \"Player 1\"\n",
    "        symbol = \"X\"\n",
    "    else:\n",
    "        player = \"Player 2\"\n",
    "        symbol = \"O\"\n",
    "    try:\n",
    "        take_turn(player, symbol)\n",
    "        turn += 1\n",
    "        if turn > 9:\n",
    "            # winning move in 9th turn\n",
    "            if not game_ongoing():\n",
    "                break\n",
    "            print(\"It's a draw!\")\n",
    "            break\n",
    "    except (ValueError, SyntaxError, NameError):\n",
    "        print(\"You must pick a number\")\n",
    "        "
   ]
  },
  {
   "cell_type": "markdown",
   "metadata": {},
   "source": []
  },
  {
   "cell_type": "code",
   "execution_count": null,
   "metadata": {},
   "outputs": [],
   "source": []
  },
  {
   "cell_type": "code",
   "execution_count": null,
   "metadata": {},
   "outputs": [],
   "source": []
  }
 ],
 "metadata": {
  "kernelspec": {
   "display_name": "Python 3",
   "language": "python",
   "name": "python3"
  },
  "language_info": {
   "codemirror_mode": {
    "name": "ipython",
    "version": 3
   },
   "file_extension": ".py",
   "mimetype": "text/x-python",
   "name": "python",
   "nbconvert_exporter": "python",
   "pygments_lexer": "ipython3",
   "version": "3.6.3"
  }
 },
 "nbformat": 4,
 "nbformat_minor": 2
}
