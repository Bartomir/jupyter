{
 "cells": [
  {
   "cell_type": "code",
   "execution_count": 3,
   "metadata": {},
   "outputs": [
    {
     "name": "stdout",
     "output_type": "stream",
     "text": [
      "  1 2 3 4 5 6 7 8 9 10\n",
      "A O O O O O O O O O O\n",
      "B O O O O O O O O O O\n",
      "C O O O O O O O O O O\n",
      "D O O O O O O O O O O\n",
      "E O O O O O O O O O O\n",
      "F O O O O O O O O O O\n",
      "G O O O O O O O O O O\n",
      "H O O O O O O O O O O\n",
      "I O O O O O O O O O O\n",
      "J O O O O O O O O O O\n"
     ]
    }
   ],
   "source": [
    "board = [[' ', '1', '2', '3', '4', '5', '6', '7', '8', '9', '10'],\n",
    "['A', 'O', 'O', 'O', 'O', 'O', 'O', 'O', 'O', 'O', 'O'],\n",
    "['B', 'O', 'O', 'O', 'O', 'O', 'O', 'O', 'O', 'O', 'O'],\n",
    "['C', 'O', 'O', 'O', 'O', 'O', 'O', 'O', 'O', 'O', 'O'],\n",
    "['D', 'O', 'O', 'O', 'O', 'O', 'O', 'O', 'O', 'O', 'O'],\n",
    "['E', 'O', 'O', 'O', 'O', 'O', 'O', 'O', 'O', 'O', 'O'],\n",
    "['F', 'O', 'O', 'O', 'O', 'O', 'O', 'O', 'O', 'O', 'O'],\n",
    "['G', 'O', 'O', 'O', 'O', 'O', 'O', 'O', 'O', 'O', 'O'],\n",
    "['H', 'O', 'O', 'O', 'O', 'O', 'O', 'O', 'O', 'O', 'O'],\n",
    "['I', 'O', 'O', 'O', 'O', 'O', 'O', 'O', 'O', 'O', 'O'],\n",
    "['J', 'O', 'O', 'O', 'O', 'O', 'O', 'O', 'O', 'O', 'O']] \n",
    "\n",
    "\n",
    "def print_board(board):\n",
    "    for row in board:\n",
    "        print(\" \".join(row))\n",
    "        \n",
    "print_board(board)     "
   ]
  },
  {
   "cell_type": "code",
   "execution_count": 23,
   "metadata": {},
   "outputs": [
    {
     "name": "stdout",
     "output_type": "stream",
     "text": [
      "  1 2 3 4 5 6 7 8 9 10\n",
      "A O O O O O O O O O O\n",
      "B O O O O O O O O O O\n",
      "C O O O O O O O O O O\n",
      "D O O O O O O O O O O\n",
      "E O O O O O O O O O O\n",
      "F O O O O O O O O O O\n",
      "G O O O O O O O O O O\n",
      "H O O O O O O O O O O\n",
      "I O O O O O O O O O O\n",
      "J O O O O O O O O O O\n"
     ]
    }
   ],
   "source": [
    "board = []\n",
    "\n",
    "for x in range(0,11):\n",
    "    board.append([\"O\" for i in range(10)])\n",
    "# board[0] = [' ', '1', '2', '3', '4', '5', '6', '7', '8', '9', '10']\n",
    "\n",
    "def print_board(board):\n",
    "    print(\" \".join([' ', '1', '2', '3', '4', '5', '6', '7', '8', '9', '10']))\n",
    "    letters = \"ABCDEFGHIJ\"\n",
    "    for i in range(10):  # 10 rows in board, 10 letters\n",
    "        print(letters[i] + \" \" + \" \".join(board[i]))\n",
    "        \n",
    "print_board(board) \n"
   ]
  },
  {
   "cell_type": "code",
   "execution_count": 2,
   "metadata": {},
   "outputs": [
    {
     "name": "stdout",
     "output_type": "stream",
     "text": [
      "[[' ', '1', '2', '3', '4', '5', '6', '7', '8', '9', '10'], ['O', 'O', 'O', 'O', 'O', 'O', 'O', 'O', 'O', 'O', 'O'], ['O', 'O', 'O', 'O', 'O', 'O', 'O', 'O', 'O', 'O', 'O'], ['O', 'O', 'O', 'O', 'O', 'O', 'O', 'O', 'O', 'O', 'O'], ['O', 'O', 'O', 'O', 'O', 'O', 'O', 'O', 'O', 'O', 'O'], ['O', 'O', 'O', 'O', 'O', 'O', 'O', 'O', 'O', 'O', 'O'], ['O', 'O', 'O', 'O', 'O', 'O', 'O', 'O', 'O', 'O', 'O'], ['O', 'O', 'O', 'O', 'O', 'O', 'O', 'O', 'O', 'O', 'O'], ['O', 'O', 'O', 'O', 'O', 'O', 'O', 'O', 'O', 'O', 'O'], ['O', 'O', 'O', 'O', 'O', 'O', 'O', 'O', 'O', 'O', 'O'], ['O', 'O', 'O', 'O', 'O', 'O', 'O', 'O', 'O', 'O', 'O']]\n",
      "[' ', '1', '2', '3', '4', '5', '6', '7', '8', '9', '10']\n",
      "['O', 'O', 'O', 'O', 'O', 'O', 'O', 'O', 'O', 'O', 'O']\n",
      "['O', 'O', 'O', 'O', 'O', 'O', 'O', 'O', 'O', 'O', 'O']\n",
      "['O', 'O', 'O', 'O', 'O', 'O', 'O', 'O', 'O', 'O', 'O']\n",
      "['O', 'O', 'O', 'O', 'O', 'O', 'O', 'O', 'O', 'O', 'O']\n",
      "['O', 'O', 'O', 'O', 'O', 'O', 'O', 'O', 'O', 'O', 'O']\n",
      "['O', 'O', 'O', 'O', 'O', 'O', 'O', 'O', 'O', 'O', 'O']\n",
      "['O', 'O', 'O', 'O', 'O', 'O', 'O', 'O', 'O', 'O', 'O']\n",
      "['O', 'O', 'O', 'O', 'O', 'O', 'O', 'O', 'O', 'O', 'O']\n",
      "['O', 'O', 'O', 'O', 'O', 'O', 'O', 'O', 'O', 'O', 'O']\n",
      "['O', 'O', 'O', 'O', 'O', 'O', 'O', 'O', 'O', 'O', 'O']\n",
      "  1 2 3 4 5 6 7 8 9 10\n",
      "A O O O O O O O O O O\n",
      "B O O O O O O O O O O\n",
      "C O O O O O O O O O O\n",
      "D O O O O O O O O O O\n",
      "E O O O O O O O O O O\n",
      "F O O O O O O O O O O\n",
      "G O O O O O O O O O O\n",
      "H O O O O O O O O O O\n",
      "I O O O O O O O O O O\n",
      "J O O O O O O O O O O\n"
     ]
    }
   ],
   "source": [
    "board = []\n",
    "\n",
    "for x in range(0,11):\n",
    "    row_string = \"O \" * 11\n",
    "    board.append(row_string.split())\n",
    "board[0] = [' ', '1', '2', '3', '4', '5', '6', '7', '8', '9', '10']\n",
    "\n",
    "print(board)\n",
    "def print_board(board):\n",
    "    for row in board:\n",
    "        print(\" \".join(row))\n",
    "        \n",
    "# print_board(board) \n",
    "# first_col = [row[0] for row in board]\n",
    "letters = \" ABCDEFGHIJ\"\n",
    "counter = 0\n",
    "for row in board:\n",
    "    print(row)\n",
    "    row[0] = letters[counter]\n",
    "    counter += 1\n",
    "    \n",
    "print_board(board)\n",
    "    \n"
   ]
  },
  {
   "cell_type": "code",
   "execution_count": null,
   "metadata": {},
   "outputs": [],
   "source": [
    "\n",
    "def get_user_answer(acceptable_answers, prompt):\n",
    "    while True:\n",
    "        answer = input(prompt)\n",
    "        if answer in acceptable_answers:\n",
    "            return answer\n"
   ]
  },
  {
   "cell_type": "code",
   "execution_count": null,
   "metadata": {},
   "outputs": [],
   "source": []
  }
 ],
 "metadata": {
  "kernelspec": {
   "display_name": "Python 2",
   "language": "python",
   "name": "python2"
  },
  "language_info": {
   "codemirror_mode": {
    "name": "ipython",
    "version": 2
   },
   "file_extension": ".py",
   "mimetype": "text/x-python",
   "name": "python",
   "nbconvert_exporter": "python",
   "pygments_lexer": "ipython2",
   "version": "2.7.12"
  }
 },
 "nbformat": 4,
 "nbformat_minor": 2
}
